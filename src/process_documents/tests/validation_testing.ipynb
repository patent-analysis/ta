{
 "metadata": {
  "language_info": {
   "codemirror_mode": {
    "name": "ipython",
    "version": 3
   },
   "file_extension": ".py",
   "mimetype": "text/x-python",
   "name": "python",
   "nbconvert_exporter": "python",
   "pygments_lexer": "ipython3",
   "version": "3.7.6"
  },
  "orig_nbformat": 2,
  "kernelspec": {
   "name": "python376jvsc74a57bd0b4a2418f4bf487d677e6f22b231aca3580ed85f5d0219af2f08092920dc2c577",
   "display_name": "Python 3.7.6 64-bit ('base': conda)"
  }
 },
 "nbformat": 4,
 "nbformat_minor": 2,
 "cells": [
  {
   "cell_type": "code",
   "execution_count": 19,
   "metadata": {},
   "outputs": [],
   "source": [
    "import os\n",
    "import json\n",
    "import sys\n",
    "import requests\n",
    "PATENT_BASE_URL = 'https://uspto-documents-storage.s3.amazonaws.com/docs/'\n",
    "mocks_dir = os.path.join(os.path.abspath(''), 'mocks')\n",
    "sys.path.insert(0, mocks_dir + '/../../classes/')\n",
    "#print(mocks_dir + '/../../classes/')\n",
    "from patent import Patent"
   ]
  },
  {
   "cell_type": "code",
   "execution_count": 20,
   "metadata": {},
   "outputs": [],
   "source": [
    "data_path = os.path.join(mocks_dir, 'validation_data.json')\n",
    "data_file = open(data_path)\n",
    "data = json.load(data_file)"
   ]
  },
  {
   "cell_type": "code",
   "execution_count": 21,
   "metadata": {},
   "outputs": [],
   "source": [
    "def print_result(patent_number, key, expected, extracted):\n",
    "    print(key + \" is incorrect for patent id \" + patent_number)\n",
    "    print(\"Extracted: \" + extracted)\n",
    "    print(\"Expected: \" + expected)\n",
    "\n",
    "def get_patent_xml_path(patent_id):\n",
    "    ret_path = None\n",
    "    path_in_mock = os.path.join(mocks_dir, pat_id + '.xml')\n",
    "    if os.path.exists(path_in_mock):\n",
    "        ret_path = path_in_mock\n",
    "    else:\n",
    "        response = requests.get(PATENT_BASE_URL + patent_id + '.xml')\n",
    "        if response.status_code == 200:\n",
    "            with open(path_in_mock, 'wb') as f:\n",
    "                f.write(response.content)\n",
    "            ret_path = path_in_mock\n",
    "    return ret_path"
   ]
  },
  {
   "cell_type": "code",
   "execution_count": 22,
   "metadata": {},
   "outputs": [],
   "source": [
    "#patent id, expected is subset of extracted, extracted is subset of expected, expected, extracted\n",
    "import pandas as pd\n",
    "\n"
   ]
  },
  {
   "cell_type": "code",
   "execution_count": 23,
   "metadata": {},
   "outputs": [],
   "source": [
    "epitope_results =  pd.DataFrame(columns=['patent_id', 'expected_is_subset', 'extracted_is_subset', 'expected_residues', 'extracted_residues'])\n",
    "\n",
    "for datum in data:\n",
    "    pat_id = datum['patentNumber']\n",
    "    patent_xml_path = get_patent_xml_path(pat_id)\n",
    "    patent = Patent(patent_xml_path, pat_id)\n",
    "    \n",
    "    for key in datum:\n",
    "        if type(datum[key]) == str:\n",
    "            if datum[key].lower() != patent.__dict__[key].lower(): \n",
    "                print_result(datum['patentNumber'], key, datum[key], patent.__dict__[key])\n",
    "        elif key == 'mentionedResidues':\n",
    "            extracted_res = set()\n",
    "            for a in patent.__dict__[key]:\n",
    "                if a['location'] == 'claim':\n",
    "                    for b in a['claimedResidues']:\n",
    "                        extracted_res.add(b)\n",
    "            #parsed_epitopes = list(res)\n",
    "            extracted_res = set(sorted(extracted_res, key=lambda e: int(e)))\n",
    "            expected_res = set(sorted(datum[key], key=lambda e: int(e)))\n",
    "            exp_sub = expected_res.issubset(extracted_res)\n",
    "            ext_sub = extracted_res.issubset(expected_res)\n",
    "            epitope_results = epitope_results.append(\n",
    "                {'patent_id': pat_id, 'expected_is_subset': exp_sub, 'extracted_is_subset': ext_sub, \n",
    "                'expected_residues': expected_res, 'extracted_residues': extracted_res}, ignore_index=True)\n",
    "            \n",
    "        else: \n",
    "            if datum[key] != patent.__dict__[key]:\n",
    "                print_result(datum['patentNumber'], key, str(datum[key]), str(patent.__dict__[key]))\n"
   ]
  },
  {
   "cell_type": "code",
   "execution_count": 24,
   "metadata": {},
   "outputs": [
    {
     "output_type": "execute_result",
     "data": {
      "text/plain": [
       "          patent_id expected_is_subset extracted_is_subset  \\\n",
       "0       US8062640B2               True                True   \n",
       "1       US8080243B2               True                True   \n",
       "2       US8188234B2               True                True   \n",
       "3       US8357371B2               True                True   \n",
       "4       US8399646B2               True                True   \n",
       "5       US8501184B2               True                True   \n",
       "6       US8563698B2              False                True   \n",
       "7       US8829165B2               True                True   \n",
       "8       US8889144B2               True                True   \n",
       "9       US9175093B2               True                True   \n",
       "10      US9550837B2               True                True   \n",
       "11      US9724411B2               True                True   \n",
       "12     US10023654B2              False                True   \n",
       "13     US10787484B2               True                True   \n",
       "14     US10822424B2              False                True   \n",
       "15  US20090246192A1               True                True   \n",
       "16  US20090326202A1               True                True   \n",
       "\n",
       "                                    expected_residues  \\\n",
       "0                                                  {}   \n",
       "1                                                  {}   \n",
       "2                                                  {}   \n",
       "3                                                  {}   \n",
       "4                                                  {}   \n",
       "5                                                  {}   \n",
       "6   {123, 124, 129, 128, 126, 130, 132, 127, 131, ...   \n",
       "7   {381, 369, 380, 375, 239, 238, 374, 378, 194, ...   \n",
       "8                                                  {}   \n",
       "9                                                  {}   \n",
       "10                                                 {}   \n",
       "11                                                 {}   \n",
       "12                                              {238}   \n",
       "13                {442, 443, 241, 364, 339, 343, 444}   \n",
       "14  {118, 167, 170, 189, 117, 145, 146, 137, 100, ...   \n",
       "15                                                 {}   \n",
       "16                                                 {}   \n",
       "\n",
       "                                   extracted_residues  \n",
       "0                                                  {}  \n",
       "1                                                  {}  \n",
       "2                                                  {}  \n",
       "3                                                  {}  \n",
       "4                                                  {}  \n",
       "5                                                  {}  \n",
       "6       {123, 124, 129, 128, 126, 130, 127, 131, 125}  \n",
       "7   {381, 369, 380, 375, 239, 238, 374, 378, 194, ...  \n",
       "8                                                  {}  \n",
       "9                                                  {}  \n",
       "10                                                 {}  \n",
       "11                                                 {}  \n",
       "12                                                 {}  \n",
       "13                {442, 443, 241, 364, 339, 343, 444}  \n",
       "14  {273, 270, 284, 336, 271, 58, 338, 269, 146, 2...  \n",
       "15                                                 {}  \n",
       "16                                                 {}  "
      ],
      "text/html": "<div>\n<style scoped>\n    .dataframe tbody tr th:only-of-type {\n        vertical-align: middle;\n    }\n\n    .dataframe tbody tr th {\n        vertical-align: top;\n    }\n\n    .dataframe thead th {\n        text-align: right;\n    }\n</style>\n<table border=\"1\" class=\"dataframe\">\n  <thead>\n    <tr style=\"text-align: right;\">\n      <th></th>\n      <th>patent_id</th>\n      <th>expected_is_subset</th>\n      <th>extracted_is_subset</th>\n      <th>expected_residues</th>\n      <th>extracted_residues</th>\n    </tr>\n  </thead>\n  <tbody>\n    <tr>\n      <th>0</th>\n      <td>US8062640B2</td>\n      <td>True</td>\n      <td>True</td>\n      <td>{}</td>\n      <td>{}</td>\n    </tr>\n    <tr>\n      <th>1</th>\n      <td>US8080243B2</td>\n      <td>True</td>\n      <td>True</td>\n      <td>{}</td>\n      <td>{}</td>\n    </tr>\n    <tr>\n      <th>2</th>\n      <td>US8188234B2</td>\n      <td>True</td>\n      <td>True</td>\n      <td>{}</td>\n      <td>{}</td>\n    </tr>\n    <tr>\n      <th>3</th>\n      <td>US8357371B2</td>\n      <td>True</td>\n      <td>True</td>\n      <td>{}</td>\n      <td>{}</td>\n    </tr>\n    <tr>\n      <th>4</th>\n      <td>US8399646B2</td>\n      <td>True</td>\n      <td>True</td>\n      <td>{}</td>\n      <td>{}</td>\n    </tr>\n    <tr>\n      <th>5</th>\n      <td>US8501184B2</td>\n      <td>True</td>\n      <td>True</td>\n      <td>{}</td>\n      <td>{}</td>\n    </tr>\n    <tr>\n      <th>6</th>\n      <td>US8563698B2</td>\n      <td>False</td>\n      <td>True</td>\n      <td>{123, 124, 129, 128, 126, 130, 132, 127, 131, ...</td>\n      <td>{123, 124, 129, 128, 126, 130, 127, 131, 125}</td>\n    </tr>\n    <tr>\n      <th>7</th>\n      <td>US8829165B2</td>\n      <td>True</td>\n      <td>True</td>\n      <td>{381, 369, 380, 375, 239, 238, 374, 378, 194, ...</td>\n      <td>{381, 369, 380, 375, 239, 238, 374, 378, 194, ...</td>\n    </tr>\n    <tr>\n      <th>8</th>\n      <td>US8889144B2</td>\n      <td>True</td>\n      <td>True</td>\n      <td>{}</td>\n      <td>{}</td>\n    </tr>\n    <tr>\n      <th>9</th>\n      <td>US9175093B2</td>\n      <td>True</td>\n      <td>True</td>\n      <td>{}</td>\n      <td>{}</td>\n    </tr>\n    <tr>\n      <th>10</th>\n      <td>US9550837B2</td>\n      <td>True</td>\n      <td>True</td>\n      <td>{}</td>\n      <td>{}</td>\n    </tr>\n    <tr>\n      <th>11</th>\n      <td>US9724411B2</td>\n      <td>True</td>\n      <td>True</td>\n      <td>{}</td>\n      <td>{}</td>\n    </tr>\n    <tr>\n      <th>12</th>\n      <td>US10023654B2</td>\n      <td>False</td>\n      <td>True</td>\n      <td>{238}</td>\n      <td>{}</td>\n    </tr>\n    <tr>\n      <th>13</th>\n      <td>US10787484B2</td>\n      <td>True</td>\n      <td>True</td>\n      <td>{442, 443, 241, 364, 339, 343, 444}</td>\n      <td>{442, 443, 241, 364, 339, 343, 444}</td>\n    </tr>\n    <tr>\n      <th>14</th>\n      <td>US10822424B2</td>\n      <td>False</td>\n      <td>True</td>\n      <td>{118, 167, 170, 189, 117, 145, 146, 137, 100, ...</td>\n      <td>{273, 270, 284, 336, 271, 58, 338, 269, 146, 2...</td>\n    </tr>\n    <tr>\n      <th>15</th>\n      <td>US20090246192A1</td>\n      <td>True</td>\n      <td>True</td>\n      <td>{}</td>\n      <td>{}</td>\n    </tr>\n    <tr>\n      <th>16</th>\n      <td>US20090326202A1</td>\n      <td>True</td>\n      <td>True</td>\n      <td>{}</td>\n      <td>{}</td>\n    </tr>\n  </tbody>\n</table>\n</div>"
     },
     "metadata": {},
     "execution_count": 24
    }
   ],
   "source": [
    "epitope_results"
   ]
  },
  {
   "cell_type": "code",
   "execution_count": null,
   "metadata": {},
   "outputs": [],
   "source": []
  }
 ]
}