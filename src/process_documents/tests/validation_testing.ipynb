{
 "metadata": {
  "language_info": {
   "codemirror_mode": {
    "name": "ipython",
    "version": 3
   },
   "file_extension": ".py",
   "mimetype": "text/x-python",
   "name": "python",
   "nbconvert_exporter": "python",
   "pygments_lexer": "ipython3",
   "version": "3.7.6"
  },
  "orig_nbformat": 2,
  "kernelspec": {
   "name": "python376jvsc74a57bd0b4a2418f4bf487d677e6f22b231aca3580ed85f5d0219af2f08092920dc2c577",
   "display_name": "Python 3.7.6 64-bit ('base': conda)"
  }
 },
 "nbformat": 4,
 "nbformat_minor": 2,
 "cells": [
  {
   "cell_type": "code",
   "execution_count": 56,
   "metadata": {},
   "outputs": [],
   "source": [
    "import os\n",
    "import json\n",
    "import sys\n",
    "mocks_dir = os.path.join(os.path.abspath(''), 'mocks')\n",
    "sys.path.insert(0, mocks_dir + '/../../classes/')\n",
    "#print(mocks_dir + '/../../classes/')\n",
    "from patent import Patent"
   ]
  },
  {
   "cell_type": "code",
   "execution_count": 57,
   "metadata": {},
   "outputs": [],
   "source": [
    "data_path = os.path.join(mocks_dir, 'validation_data.json')\n",
    "data_file = open(data_path)\n",
    "data = json.load(data_file)"
   ]
  },
  {
   "cell_type": "code",
   "execution_count": 58,
   "metadata": {},
   "outputs": [],
   "source": [
    "def print_result(patent_number, key, expected, extracted):\n",
    "    print(key + \" is incorrect for patent id \" + patent_number)\n",
    "    print(\"Extracted: \" + extracted)\n",
    "    print(\"Expected: \" + expected)"
   ]
  },
  {
   "cell_type": "code",
   "execution_count": 66,
   "metadata": {},
   "outputs": [],
   "source": [
    "missed_data = []\n",
    "for datum in data:\n",
    "    patent_xml_path = os.path.join(mocks_dir, datum['patentNumber'] + '.xml')\n",
    "    patent = Patent(patent_xml_path, datum['patentNumber'])\n",
    "    for key in datum:\n",
    "        if type(datum[key]) == str:\n",
    "            if datum[key].lower() != patent.__dict__[key].lower(): \n",
    "                print_result(datum['patentNumber'], key, datum[key], patent.__dict__[key])\n",
    "        elif key == 'mentionedResidues':\n",
    "            extracted_res = set()\n",
    "            for a in patent.__dict__[key]:\n",
    "                for b in a['claimedResidues']:\n",
    "                    extracted_res.add(b)\n",
    "            #parsed_epitopes = list(res)\n",
    "            extracted_res = sorted(extracted_res, key=lambda e: int(e))\n",
    "            expected_res = set(sorted(datum[key], key=lambda e: int(e)))\n",
    "            if not expected_res.issubset(extracted_res):\n",
    "                print_result(datum['patentNumber'], key, str(expected_res), str(extracted_res))\n",
    "            #parsed_epitopes.sort(key=lambda e: int(e))\n",
    "            #datum[key].sort(key=lambda e: int(e))\n",
    "            #if parsed_epitopes != datum[key]:\n",
    "            #    print_result(datum['patentNumber'], key, str(datum[key]), str(parsed_epitopes))\n",
    "        else: \n",
    "            if datum[key] != patent.__dict__[key]:\n",
    "                print_result(datum['patentNumber'], key, str(datum[key]), str(patent.__dict__[key]))\n"
   ]
  },
  {
   "cell_type": "code",
   "execution_count": 35,
   "metadata": {},
   "outputs": [
    {
     "output_type": "execute_result",
     "data": {
      "text/plain": [
       "[{'seqId': '1',\n",
       "  'claimedResidues': ['1', '241', '339', '343', '364', '442', '443', '444'],\n",
       "  'location': 'claim'},\n",
       " {'seqId': '1',\n",
       "  'claimedResidues': ['1',\n",
       "   '241',\n",
       "   '339',\n",
       "   '343',\n",
       "   '364',\n",
       "   '442',\n",
       "   '443',\n",
       "   '444',\n",
       "   '239',\n",
       "   '240',\n",
       "   '340',\n",
       "   '341',\n",
       "   '366',\n",
       "   '367',\n",
       "   '368',\n",
       "   '369',\n",
       "   '370',\n",
       "   '391',\n",
       "   '342',\n",
       "   '1368',\n",
       "   '1369'],\n",
       "  'location': 'description'}]"
      ]
     },
     "metadata": {},
     "execution_count": 35
    }
   ],
   "source": [
    "d = missed_data[0]\n",
    "d"
   ]
  },
  {
   "cell_type": "code",
   "execution_count": 39,
   "metadata": {},
   "outputs": [
    {
     "output_type": "error",
     "ename": "NameError",
     "evalue": "name 'unique' is not defined",
     "traceback": [
      "\u001b[0;31m---------------------------------------------------------------------------\u001b[0m",
      "\u001b[0;31mNameError\u001b[0m                                 Traceback (most recent call last)",
      "\u001b[0;32m<ipython-input-39-c7d061ec7841>\u001b[0m in \u001b[0;36m<module>\u001b[0;34m\u001b[0m\n\u001b[1;32m      3\u001b[0m     \u001b[0;32mfor\u001b[0m \u001b[0mb\u001b[0m \u001b[0;32min\u001b[0m \u001b[0ma\u001b[0m\u001b[0;34m[\u001b[0m\u001b[0;34m'claimedResidues'\u001b[0m\u001b[0;34m]\u001b[0m\u001b[0;34m:\u001b[0m\u001b[0;34m\u001b[0m\u001b[0;34m\u001b[0m\u001b[0m\n\u001b[1;32m      4\u001b[0m         \u001b[0mres\u001b[0m\u001b[0;34m.\u001b[0m\u001b[0mappend\u001b[0m\u001b[0;34m(\u001b[0m\u001b[0mb\u001b[0m\u001b[0;34m)\u001b[0m\u001b[0;34m\u001b[0m\u001b[0;34m\u001b[0m\u001b[0m\n\u001b[0;32m----> 5\u001b[0;31m \u001b[0munique\u001b[0m\u001b[0;34m(\u001b[0m\u001b[0mres\u001b[0m\u001b[0;34m)\u001b[0m\u001b[0;34m\u001b[0m\u001b[0;34m\u001b[0m\u001b[0m\n\u001b[0m",
      "\u001b[0;31mNameError\u001b[0m: name 'unique' is not defined"
     ]
    }
   ],
   "source": [
    "res = set()\n",
    "for a in d:\n",
    "    for b in a['claimedResidues']:\n",
    "        res.append(b)\n",
    "unique(res)"
   ]
  },
  {
   "cell_type": "code",
   "execution_count": null,
   "metadata": {},
   "outputs": [],
   "source": []
  }
 ]
}