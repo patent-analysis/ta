{
 "metadata": {
  "language_info": {
   "codemirror_mode": {
    "name": "ipython",
    "version": 3
   },
   "file_extension": ".py",
   "mimetype": "text/x-python",
   "name": "python",
   "nbconvert_exporter": "python",
   "pygments_lexer": "ipython3",
   "version": "3.7.6"
  },
  "orig_nbformat": 2,
  "kernelspec": {
   "name": "python376jvsc74a57bd0b4a2418f4bf487d677e6f22b231aca3580ed85f5d0219af2f08092920dc2c577",
   "display_name": "Python 3.7.6 64-bit ('base': conda)"
  }
 },
 "nbformat": 4,
 "nbformat_minor": 2,
 "cells": [
  {
   "cell_type": "code",
   "execution_count": 25,
   "metadata": {},
   "outputs": [],
   "source": [
    "import os\n",
    "import json\n",
    "import sys\n",
    "import pandas as pd\n",
    "import requests\n",
    "PATENT_BASE_URL = 'https://uspto-documents-storage.s3.amazonaws.com/docs/'\n",
    "mocks_dir = os.path.join(os.path.abspath(''), 'mocks')\n",
    "sys.path.insert(0, mocks_dir + '/../../classes/')\n",
    "#print(mocks_dir + '/../../classes/')\n",
    "from patent import Patent"
   ]
  },
  {
   "cell_type": "code",
   "execution_count": 34,
   "metadata": {},
   "outputs": [],
   "source": [
    "def print_result(patent_number, key, expected, extracted):\n",
    "    print(key + \" is incorrect for patent id \" + patent_number)\n",
    "    print(\"Extracted: \" + extracted)\n",
    "    print(\"Expected: \" + expected)\n",
    "\n",
    "def get_patent_xml_path(patent_id):\n",
    "    ret_path = None\n",
    "    path_in_mock = os.path.join(mocks_dir, pat_id + '.xml')\n",
    "    if os.path.exists(path_in_mock):\n",
    "        ret_path = path_in_mock\n",
    "    else:\n",
    "        response = requests.get(PATENT_BASE_URL + patent_id + '.xml')\n",
    "        if response.status_code == 200:\n",
    "            with open(path_in_mock, 'wb') as f:\n",
    "                f.write(response.content)\n",
    "            ret_path = path_in_mock\n",
    "    return ret_path"
   ]
  },
  {
   "cell_type": "code",
   "execution_count": 118,
   "metadata": {},
   "outputs": [],
   "source": [
    "data_path = os.path.join(mocks_dir, 'validation_data.json')\n",
    "data_file = open(data_path)\n",
    "data = json.load(data_file)"
   ]
  },
  {
   "cell_type": "code",
   "execution_count": 119,
   "metadata": {},
   "outputs": [
    {
     "output_type": "stream",
     "name": "stdout",
     "text": [
      "pat_id: US9334318B1 \n",
      " expected str, bytes or os.PathLike object, not NoneType\n",
      "pat_id: US20160046675A1 \n",
      " expected str, bytes or os.PathLike object, not NoneType\n"
     ]
    }
   ],
   "source": [
    "epitope_results =  pd.DataFrame(columns=['patent_id', 'expected_is_subset', 'extracted_is_subset', 'expected_residues', 'extracted_residues'])\n",
    "\n",
    "for datum in data:\n",
    "    pat_id = datum['patentNumber']\n",
    "    patent_xml_path = get_patent_xml_path(pat_id)\n",
    "    try:\n",
    "        patent = Patent(patent_xml_path, pat_id)\n",
    "        \n",
    "        for key in datum:\n",
    "            if type(datum[key]) == str:\n",
    "                if datum[key].lower() != patent.__dict__[key].lower(): \n",
    "                    print_result(datum['patentNumber'], key, datum[key], patent.__dict__[key])\n",
    "            elif key == 'mentionedResidues':\n",
    "                extracted_res = set()\n",
    "                for seq_object in patent.__dict__[key]:\n",
    "                    if seq_object['location'] == 'claim':\n",
    "                        for res in seq_object['claimedResidues']:\n",
    "                            extracted_res.add(res)\n",
    "                #parsed_epitopes = list(res)\n",
    "                expected_res = set(datum[key])\n",
    "                exp_sub = expected_res.issubset(extracted_res)\n",
    "                ext_sub = extracted_res.issubset(expected_res)\n",
    "                epitope_results = epitope_results.append(\n",
    "                    {'patent_id': pat_id, 'expected_is_subset': exp_sub, 'extracted_is_subset': ext_sub, \n",
    "                    'expected_residues': sorted(expected_res, key=lambda e: int(e)), 'extracted_residues': sorted(extracted_res, key=lambda e: int(e))}, ignore_index=True)\n",
    "                \n",
    "            else: \n",
    "                if datum[key] != patent.__dict__[key]:\n",
    "                    print_result(datum['patentNumber'], key, str(datum[key]), str(patent.__dict__[key]))\n",
    "    except Exception as e:\n",
    "        print (\"pat_id:\", pat_id, \"\\n\", e)\n"
   ]
  },
  {
   "cell_type": "code",
   "execution_count": 120,
   "metadata": {},
   "outputs": [
    {
     "output_type": "execute_result",
     "data": {
      "text/plain": [
       "                                                                                                                                                                                                                                                                                                                                                                                                                                     []  \n",
       "1                                                                                                                                                                                                                                                                                                                                                                                                                                             []  \n",
       "2                                                                                                                                                                                                                                                                                                                                                                                                                                             []  \n",
       "3                                                                                                                                                                                                                                                                                                                                                                                                                                             []  \n",
       "4                                                                                                                                                                                                                                                                                                                                                                                                                                             []  \n",
       "5                                                                                                                                                                                                                                                                                                                                                                                                                                             []  \n",
       "6                                                                                                                                                                                                                                                                                                                                                                                                  [123, 124, 125, 126, 127, 128, 129, 130, 131]  \n",
       "7                                                                                                                                                                                                                                                                                                                                                                    [153, 154, 155, 194, 238, 239, 369, 372, 374, 375, 377, 378, 379, 380, 381]  \n",
       "8                                                                                                                                                                                                                                                                                                                                                                                                                                             []  \n",
       "9                                                                                                                                                                                                                                                                                                                                                                                                                                             []  \n",
       "10                                                                                                                                                                                                                                                                                                                                                                                                                                            []  \n",
       "11                                                                                                                                                                                                                                                                                                                                                                                                                                            []  \n",
       "12                                                                                                                                                                                                                                                                                                                                                                                                                                            []  \n",
       "13                                                                                                                                                                                                                                                                                                                                                                                                           [241, 339, 343, 364, 442, 443, 444]  \n",
       "14                                                                                                                                                                                                                                                                                                                                                                         [58, 100, 146, 269, 270, 271, 272, 273, 284, 336, 337, 338, 341, 345]  \n",
       "15                                                                                                                                                                                                                                                                                                                                                                                                                                            []  \n",
       "16                                                                                                                                                                                                                                                                                                                                                                                                                                            []  \n",
       "17                                                                                                                                                                                                                                                                                                                                                                                                                                            []  \n",
       "18                                                                                                                                                                                                                                                                                                                                                                                                                                            []  \n",
       "19                                                                                                                                                                                                                                                                                                                                                                                                                                            []  \n",
       "20                                                                                                                                                                                                                                                                                                                                                             [1, 46, 47, 48, 49, 50, 51, 52, 53, 54, 55, 56, 57, 58, 59, 60, 61, 62, 114, 150]  \n",
       "21                                                                                                                                                                                                                                                                                                                                               [403, 406, 412, 427, 431, 432, 461, 463, 467, 490, 505, 513, 522, 538, 548, 551, 576, 592, 597]  \n",
       "22                                                                                                                                                                                                                                                                                                                                                                                                                                            []  \n",
       "23                                                                                                                                                                                                                                                                                                                                                                                                                                            []  \n",
       "24                                                                                                                                                                                                                                                                                                                                                                                                                                            []  \n",
       "25                                                                                                                                                                                                                                                                                                                                                                    [77, 135, 136, 137, 138, 139, 140, 141, 142, 143, 144, 145, 146, 147, 148]  \n",
       "26                                                                                                                                                                                                                                                                                                                                                                                                                                            []  \n",
       "27                                                                                                                                                                                                                                                                                                                                                                                                                                            []  \n",
       "28                                                                                                                                                                                                                                                                                                                                                                                                                                            []  \n",
       "29                                                                                                                                                                                                                                                   [5, 6, 7, 8, 9, 10, 11, 12, 13, 14, 15, 16, 17, 18, 19, 20, 21, 74, 106, 107, 108, 109, 110, 111, 112, 113, 114, 115, 116, 117, 118, 119, 120, 121, 130, 131, 132, 133, 134, 135, 136, 137]  \n",
       "30                                                                                                                                                                                                                                                       [1, 317, 318, 319, 320, 321, 322, 323, 324, 325, 326, 327, 328, 329, 330, 331, 332, 333, 334, 335, 336, 337, 338, 339, 340, 341, 342, 343, 344, 345, 346, 347, 348, 349, 350, 351, 352]  \n",
       "31                                                                                                                                                                                                                                                                                                                                                                                                                                            []  \n",
       "32                                                                                                                                                                                                                                                                                                                                                                                                                                            []  \n",
       "33                                                                                                                                                                                                                                                                                                                                                                                                                                       [5, 32]  \n",
       "34                                                                                                                                                                                                                                                                                                                                                                                                                                            []  \n",
       "35                                                                                                                                                                                                                                                                                                                                                                                                                                            []  \n",
       "36                                                                                                                                                                                                                                                                                                                                                                                                     [40, 55, 58, 60, 62, 80, 88, 93, 99, 115]  \n",
       "37                                 [1, 2, 3, 4, 5, 6, 7, 8, 9, 10, 11, 12, 13, 14, 15, 16, 17, 18, 19, 20, 21, 22, 23, 24, 25, 26, 27, 28, 29, 30, 31, 32, 33, 34, 35, 36, 37, 38, 39, 40, 41, 42, 43, 44, 45, 46, 47, 48, 49, 50, 51, 52, 53, 54, 55, 56, 57, 58, 59, 60, 61, 62, 63, 64, 65, 66, 67, 68, 69, 70, 71, 72, 73, 74, 75, 76, 77, 78, 79, 80, 81, 82, 83, 84, 85, 86, 87, 88, 89, 90, 91, 92, 93, 94, 95, 96, 97, 98, 99, 100, ...]  \n",
       "38                                                                                                                                                                                                                                                                                                                                                                                                                                            []  \n",
       "39                                                                                                                                                                                                                                                                                                                                                                                                                                            []  \n",
       "40                                                                                                                                                                                                                                                                                                                                                                                                   [22, 58, 60, 65, 68, 70, 76, 107, 109, 117]  \n",
       "41  [23, 24, 25, 26, 27, 28, 29, 30, 31, 32, 33, 34, 35, 36, 37, 38, 39, 40, 41, 42, 43, 44, 45, 46, 47, 48, 49, 50, 51, 52, 53, 54, 55, 56, 57, 58, 59, 60, 61, 62, 63, 64, 65, 66, 67, 68, 69, 70, 71, 72, 73, 74, 75, 76, 77, 78, 79, 80, 81, 82, 83, 84, 85, 86, 87, 88, 89, 90, 91, 92, 93, 94, 95, 96, 97, 98, 99, 100, 101, 102, 103, 104, 105, 106, 107, 108, 109, 110, 111, 112, 113, 114, 115, 116, 117, 118, 119, 120, 121, 122, ...]  \n",
       "42                                                                                                                                                                                                                                                                                                                                                                                                                                            []  \n",
       "43                                                                                                                                                                                                                                                                                                                                                                                                                                            []  \n",
       "44                                                                                                                                                                                                                                                                                                                                                                                                                                            []  \n",
       "45                                                                                                                                                                                                                                                                                                                                                                                                                                            []  "
      ],
      "text/html": "<div>\n<style scoped>\n    .dataframe tbody tr th:only-of-type {\n        vertical-align: middle;\n    }\n\n    .dataframe tbody tr th {\n        vertical-align: top;\n    }\n\n    .dataframe thead th {\n        text-align: right;\n    }\n</style>\n<table border=\"1\" class=\"dataframe\">\n  <thead>\n    <tr style=\"text-align: right;\">\n      <th></th>\n      <th>patent_id</th>\n      <th>expected_is_subset</th>\n      <th>extracted_is_subset</th>\n      <th>expected_residues</th>\n      <th>extracted_residues</th>\n    </tr>\n  </thead>\n  <tbody>\n    <tr>\n      <th>0</th>\n      <td>US8062640B2</td>\n      <td>True</td>\n      <td>True</td>\n      <td>[]</td>\n      <td>[]</td>\n    </tr>\n    <tr>\n      <th>1</th>\n      <td>US8080243B2</td>\n      <td>True</td>\n      <td>True</td>\n      <td>[]</td>\n      <td>[]</td>\n    </tr>\n    <tr>\n      <th>2</th>\n      <td>US8188234B2</td>\n      <td>True</td>\n      <td>True</td>\n      <td>[]</td>\n      <td>[]</td>\n    </tr>\n    <tr>\n      <th>3</th>\n      <td>US8357371B2</td>\n      <td>True</td>\n      <td>True</td>\n      <td>[]</td>\n      <td>[]</td>\n    </tr>\n    <tr>\n      <th>4</th>\n      <td>US8399646B2</td>\n      <td>True</td>\n      <td>True</td>\n      <td>[]</td>\n      <td>[]</td>\n    </tr>\n    <tr>\n      <th>5</th>\n      <td>US8501184B2</td>\n      <td>True</td>\n      <td>True</td>\n      <td>[]</td>\n      <td>[]</td>\n    </tr>\n    <tr>\n      <th>6</th>\n      <td>US8563698B2</td>\n      <td>False</td>\n      <td>True</td>\n      <td>[123, 124, 125, 126, 127, 128, 129, 130, 131, 132]</td>\n      <td>[123, 124, 125, 126, 127, 128, 129, 130, 131]</td>\n    </tr>\n    <tr>\n      <th>7</th>\n      <td>US8829165B2</td>\n      <td>True</td>\n      <td>True</td>\n      <td>[153, 154, 155, 194, 238, 239, 369, 372, 374, 375, 377, 378, 379, 380, 381]</td>\n      <td>[153, 154, 155, 194, 238, 239, 369, 372, 374, 375, 377, 378, 379, 380, 381]</td>\n    </tr>\n    <tr>\n      <th>8</th>\n      <td>US8889144B2</td>\n      <td>True</td>\n      <td>True</td>\n      <td>[]</td>\n      <td>[]</td>\n    </tr>\n    <tr>\n      <th>9</th>\n      <td>US9175093B2</td>\n      <td>True</td>\n      <td>True</td>\n      <td>[]</td>\n      <td>[]</td>\n    </tr>\n    <tr>\n      <th>10</th>\n      <td>US9550837B2</td>\n      <td>True</td>\n      <td>True</td>\n      <td>[]</td>\n      <td>[]</td>\n    </tr>\n    <tr>\n      <th>11</th>\n      <td>US9724411B2</td>\n      <td>True</td>\n      <td>True</td>\n      <td>[]</td>\n      <td>[]</td>\n    </tr>\n    <tr>\n      <th>12</th>\n      <td>US10023654B2</td>\n      <td>False</td>\n      <td>True</td>\n      <td>[238]</td>\n      <td>[]</td>\n    </tr>\n    <tr>\n      <th>13</th>\n      <td>US10787484B2</td>\n      <td>True</td>\n      <td>True</td>\n      <td>[241, 339, 343, 364, 442, 443, 444]</td>\n      <td>[241, 339, 343, 364, 442, 443, 444]</td>\n    </tr>\n    <tr>\n      <th>14</th>\n      <td>US10822424B2</td>\n      <td>False</td>\n      <td>True</td>\n      <td>[58, 100, 113, 114, 116, 117, 118, 119, 137, 138, 139, 140, 142, 143, 144, 145, 146, 162, 163, 165, 166, 167, 170, 189, 269, 270, 271, 272, 273, 284, 336, 337, 338, 341, 345]</td>\n      <td>[58, 100, 146, 269, 270, 271, 272, 273, 284, 336, 337, 338, 341, 345]</td>\n    </tr>\n    <tr>\n      <th>15</th>\n      <td>US20090246192A1</td>\n      <td>True</td>\n      <td>True</td>\n      <td>[]</td>\n      <td>[]</td>\n    </tr>\n    <tr>\n      <th>16</th>\n      <td>US20090326202A1</td>\n      <td>True</td>\n      <td>True</td>\n      <td>[]</td>\n      <td>[]</td>\n    </tr>\n    <tr>\n      <th>17</th>\n      <td>US8828405B2</td>\n      <td>True</td>\n      <td>True</td>\n      <td>[]</td>\n      <td>[]</td>\n    </tr>\n    <tr>\n      <th>18</th>\n      <td>US8337844B2</td>\n      <td>False</td>\n      <td>True</td>\n      <td>[11, 12, 14, 20, 27, 29, 40, 48, 59, 68, 69, 72, 76, 77, 82, 87, 91, 93, 106, 114]</td>\n      <td>[]</td>\n    </tr>\n    <tr>\n      <th>19</th>\n      <td>US20060019899A1</td>\n      <td>True</td>\n      <td>True</td>\n      <td>[]</td>\n      <td>[]</td>\n    </tr>\n    <tr>\n      <th>20</th>\n      <td>US7531174B2</td>\n      <td>False</td>\n      <td>False</td>\n      <td>[46, 47, 48, 49, 50, 51, 52, 53, 54, 55, 56, 57, 58, 59, 60, 61, 62, 114, 115, 116, 117, 118, 119, 120, 121, 122, 123, 124, 125, 126, 127, 128, 129, 130, 131, 132, 133, 134, 135, 136, 137, 138, 139, 140, 141, 142, 143, 144, 145, 146, 147, 148, 149, 150]</td>\n      <td>[1, 46, 47, 48, 49, 50, 51, 52, 53, 54, 55, 56, 57, 58, 59, 60, 61, 62, 114, 150]</td>\n    </tr>\n    <tr>\n      <th>21</th>\n      <td>US20200181280A1</td>\n      <td>True</td>\n      <td>False</td>\n      <td>[]</td>\n      <td>[403, 406, 412, 427, 431, 432, 461, 463, 467, 490, 505, 513, 522, 538, 548, 551, 576, 592, 597]</td>\n    </tr>\n    <tr>\n      <th>22</th>\n      <td>US20170240631A1</td>\n      <td>True</td>\n      <td>True</td>\n      <td>[]</td>\n      <td>[]</td>\n    </tr>\n    <tr>\n      <th>23</th>\n      <td>US20180037645A1</td>\n      <td>False</td>\n      <td>True</td>\n      <td>[33, 34, 35, 36, 37, 38, 39, 40, 41, 42, 43, 44, 45, 46, 47, 48, 49, 50, 51, 52, 53, 54, 55, 56, 57, 58, 89, 90, 91, 92, 93, 94, 95, 96, 97, 98, 99, 100, 101, 102, 103, 104, 105, 106, 107, 108, 109, 110, 111, 112, 113, 114, 115, 116, 117, 118, 119, 120, 121, 122, 123, 124]</td>\n      <td>[]</td>\n    </tr>\n    <tr>\n      <th>24</th>\n      <td>US20190330329A1</td>\n      <td>True</td>\n      <td>True</td>\n      <td>[]</td>\n      <td>[]</td>\n    </tr>\n    <tr>\n      <th>25</th>\n      <td>US20160368989A1</td>\n      <td>True</td>\n      <td>False</td>\n      <td>[]</td>\n      <td>[77, 135, 136, 137, 138, 139, 140, 141, 142, 143, 144, 145, 146, 147, 148]</td>\n    </tr>\n    <tr>\n      <th>26</th>\n      <td>US20190127486A1</td>\n      <td>True</td>\n      <td>True</td>\n      <td>[]</td>\n      <td>[]</td>\n    </tr>\n    <tr>\n      <th>27</th>\n      <td>US20180112001A1</td>\n      <td>True</td>\n      <td>True</td>\n      <td>[]</td>\n      <td>[]</td>\n    </tr>\n    <tr>\n      <th>28</th>\n      <td>US20180208661A1</td>\n      <td>True</td>\n      <td>True</td>\n      <td>[]</td>\n      <td>[]</td>\n    </tr>\n    <tr>\n      <th>29</th>\n      <td>US20170081409A1</td>\n      <td>True</td>\n      <td>False</td>\n      <td>[]</td>\n      <td>[5, 6, 7, 8, 9, 10, 11, 12, 13, 14, 15, 16, 17, 18, 19, 20, 21, 74, 106, 107, 108, 109, 110, 111, 112, 113, 114, 115, 116, 117, 118, 119, 120, 121, 130, 131, 132, 133, 134, 135, 136, 137]</td>\n    </tr>\n    <tr>\n      <th>30</th>\n      <td>US8071097B2</td>\n      <td>True</td>\n      <td>False</td>\n      <td>[]</td>\n      <td>[1, 317, 318, 319, 320, 321, 322, 323, 324, 325, 326, 327, 328, 329, 330, 331, 332, 333, 334, 335, 336, 337, 338, 339, 340, 341, 342, 343, 344, 345, 346, 347, 348, 349, 350, 351, 352]</td>\n    </tr>\n    <tr>\n      <th>31</th>\n      <td>US20170210808A1</td>\n      <td>True</td>\n      <td>True</td>\n      <td>[]</td>\n      <td>[]</td>\n    </tr>\n    <tr>\n      <th>32</th>\n      <td>US20190062429A1</td>\n      <td>True</td>\n      <td>True</td>\n      <td>[]</td>\n      <td>[]</td>\n    </tr>\n    <tr>\n      <th>33</th>\n      <td>US20170355781A1</td>\n      <td>True</td>\n      <td>False</td>\n      <td>[]</td>\n      <td>[5, 32]</td>\n    </tr>\n    <tr>\n      <th>34</th>\n      <td>US20210054073A1</td>\n      <td>True</td>\n      <td>True</td>\n      <td>[]</td>\n      <td>[]</td>\n    </tr>\n    <tr>\n      <th>35</th>\n      <td>US20190040135A1</td>\n      <td>True</td>\n      <td>True</td>\n      <td>[]</td>\n      <td>[]</td>\n    </tr>\n    <tr>\n      <th>36</th>\n      <td>US20160347847A1</td>\n      <td>True</td>\n      <td>False</td>\n      <td>[]</td>\n      <td>[40, 55, 58, 60, 62, 80, 88, 93, 99, 115]</td>\n    </tr>\n    <tr>\n      <th>37</th>\n      <td>US7674599B2</td>\n      <td>True</td>\n      <td>False</td>\n      <td>[]</td>\n      <td>[1, 2, 3, 4, 5, 6, 7, 8, 9, 10, 11, 12, 13, 14, 15, 16, 17, 18, 19, 20, 21, 22, 23, 24, 25, 26, 27, 28, 29, 30, 31, 32, 33, 34, 35, 36, 37, 38, 39, 40, 41, 42, 43, 44, 45, 46, 47, 48, 49, 50, 51, 52, 53, 54, 55, 56, 57, 58, 59, 60, 61, 62, 63, 64, 65, 66, 67, 68, 69, 70, 71, 72, 73, 74, 75, 76, 77, 78, 79, 80, 81, 82, 83, 84, 85, 86, 87, 88, 89, 90, 91, 92, 93, 94, 95, 96, 97, 98, 99, 100, ...]</td>\n    </tr>\n    <tr>\n      <th>38</th>\n      <td>US20140301946A1</td>\n      <td>True</td>\n      <td>True</td>\n      <td>[]</td>\n      <td>[]</td>\n    </tr>\n    <tr>\n      <th>39</th>\n      <td>US10927173B2</td>\n      <td>True</td>\n      <td>True</td>\n      <td>[]</td>\n      <td>[]</td>\n    </tr>\n    <tr>\n      <th>40</th>\n      <td>US20160176963A1</td>\n      <td>True</td>\n      <td>False</td>\n      <td>[]</td>\n      <td>[22, 58, 60, 65, 68, 70, 76, 107, 109, 117]</td>\n    </tr>\n    <tr>\n      <th>41</th>\n      <td>US10357571B2</td>\n      <td>True</td>\n      <td>False</td>\n      <td>[]</td>\n      <td>[23, 24, 25, 26, 27, 28, 29, 30, 31, 32, 33, 34, 35, 36, 37, 38, 39, 40, 41, 42, 43, 44, 45, 46, 47, 48, 49, 50, 51, 52, 53, 54, 55, 56, 57, 58, 59, 60, 61, 62, 63, 64, 65, 66, 67, 68, 69, 70, 71, 72, 73, 74, 75, 76, 77, 78, 79, 80, 81, 82, 83, 84, 85, 86, 87, 88, 89, 90, 91, 92, 93, 94, 95, 96, 97, 98, 99, 100, 101, 102, 103, 104, 105, 106, 107, 108, 109, 110, 111, 112, 113, 114, 115, 116, 117, 118, 119, 120, 121, 122, ...]</td>\n    </tr>\n    <tr>\n      <th>42</th>\n      <td>US20160355589A1</td>\n      <td>True</td>\n      <td>True</td>\n      <td>[]</td>\n      <td>[]</td>\n    </tr>\n    <tr>\n      <th>43</th>\n      <td>US9968687B2</td>\n      <td>True</td>\n      <td>True</td>\n      <td>[]</td>\n      <td>[]</td>\n    </tr>\n    <tr>\n      <th>44</th>\n      <td>US20210024626A1</td>\n      <td>True</td>\n      <td>True</td>\n      <td>[]</td>\n      <td>[]</td>\n    </tr>\n    <tr>\n      <th>45</th>\n      <td>US9790269B2</td>\n      <td>True</td>\n      <td>True</td>\n      <td>[]</td>\n      <td>[]</td>\n    </tr>\n  </tbody>\n</table>\n</div>"
     },
     "metadata": {},
     "execution_count": 120
    }
   ],
   "source": [
    "pd.set_option('display.max_colwidth', None)\n",
    "epitope_results"
   ]
  },
  {
   "cell_type": "code",
   "execution_count": 121,
   "metadata": {},
   "outputs": [],
   "source": [
    "exp_sub_ratio = len(epitope_results[epitope_results.expected_is_subset]) / len(epitope_results)\n",
    "ext_sub_ratio = len(epitope_results[epitope_results.extracted_is_subset\t]) / len(epitope_results)\n",
    "exp_same_ext = len(epitope_results[epitope_results.expected_is_subset & epitope_results.extracted_is_subset]) / len(epitope_results)"
   ]
  },
  {
   "cell_type": "code",
   "execution_count": 122,
   "metadata": {},
   "outputs": [
    {
     "output_type": "stream",
     "name": "stdout",
     "text": [
      "Overall:\nexp_sub_ratio: 0.8695652173913043\next_sub_ratio: 0.782608695652174\nexp_same_ext: 0.6739130434782609\n"
     ]
    }
   ],
   "source": [
    "print(\"Overall:\")\n",
    "print(\"Ratio of Expected is subset of Extracted:\", exp_sub_ratio)\n",
    "print(\"Ratio of Extracted is subset of Expected:\", ext_sub_ratio)\n",
    "print(\"Ratio of both are same:\", exp_same_ext)"
   ]
  },
  {
   "cell_type": "code",
   "execution_count": 125,
   "metadata": {},
   "outputs": [],
   "source": [
    "non_empty_exp = epitope_results[epitope_results.expected_residues.str.len() != 0]\n",
    "non_empty_exp_sub_ratio = len(non_empty_exp[non_empty_exp.expected_is_subset]) / len(non_empty_exp)\n",
    "non_empty_ext_sub_ratio = len(non_empty_exp[non_empty_exp.extracted_is_subset\t]) / len(non_empty_exp)\n",
    "non_empty_exp_same_ext = len(non_empty_exp[non_empty_exp.expected_is_subset & non_empty_exp.extracted_is_subset]) / len(non_empty_exp)"
   ]
  },
  {
   "cell_type": "code",
   "execution_count": 126,
   "metadata": {},
   "outputs": [
    {
     "output_type": "stream",
     "name": "stdout",
     "text": [
      "Non Empty Expected:\nnon_empty_exp_sub_ratio: 0.25\nnon_empty_ext_sub_ratio: 0.875\nnon_empty_exp_same_ext: 0.25\n"
     ]
    }
   ],
   "source": [
    "print(\"Non Empty Expected:\")\n",
    "print(\"Ratio of Expected is subset of Extracted:\", non_empty_exp_sub_ratio)\n",
    "print(\"Ratio of Extracted is subset of Expected:\", non_empty_ext_sub_ratio)\n",
    "print(\"Ratio of both are same:\", non_empty_exp_same_ext)"
   ]
  },
  {
   "cell_type": "code",
   "execution_count": 127,
   "metadata": {},
   "outputs": [],
   "source": [
    "non_empty_ext = epitope_results[epitope_results.extracted_residues.str.len() != 0]\n",
    "non_empty_ext_exp_sub_ratio = len(non_empty_ext[non_empty_ext.expected_is_subset]) / len(non_empty_ext)\n",
    "non_empty_ext_ext_sub_ratio = len(non_empty_ext[non_empty_ext.extracted_is_subset\t]) / len(non_empty_ext)\n",
    "non_empty_ext_exp_same_ext = len(non_empty_ext[non_empty_ext.expected_is_subset & non_empty_ext.extracted_is_subset]) / len(non_empty_ext)"
   ]
  },
  {
   "cell_type": "code",
   "execution_count": 128,
   "metadata": {},
   "outputs": [
    {
     "output_type": "stream",
     "name": "stdout",
     "text": [
      "Non Empty Extracted:\nnon_empty_ext_exp_sub_ratio: 0.7857142857142857\nnon_empty_ext_ext_sub_ratio: 0.2857142857142857\nnon_empty_ext_exp_same_ext: 0.14285714285714285\n"
     ]
    }
   ],
   "source": [
    "print(\"Non Empty Extracted:\")\n",
    "print(\"Ratio of Expected is subset of Extracted:\", non_empty_ext_exp_sub_ratio)\n",
    "print(\"Ratio of Extracted is subset of Expected:\", non_empty_ext_ext_sub_ratio)\n",
    "print(\"Ratio of both are same:\", non_empty_ext_exp_same_ext)"
   ]
  },
  {
   "cell_type": "code",
   "execution_count": null,
   "metadata": {},
   "outputs": [],
   "source": []
  }
 ]
}