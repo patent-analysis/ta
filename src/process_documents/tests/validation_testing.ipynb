{
 "metadata": {
  "language_info": {
   "codemirror_mode": {
    "name": "ipython",
    "version": 3
   },
   "file_extension": ".py",
   "mimetype": "text/x-python",
   "name": "python",
   "nbconvert_exporter": "python",
   "pygments_lexer": "ipython3",
   "version": "3.7.6"
  },
  "orig_nbformat": 2,
  "kernelspec": {
   "name": "python376jvsc74a57bd0b4a2418f4bf487d677e6f22b231aca3580ed85f5d0219af2f08092920dc2c577",
   "display_name": "Python 3.7.6 64-bit ('base': conda)"
  }
 },
 "nbformat": 4,
 "nbformat_minor": 2,
 "cells": [
  {
   "cell_type": "code",
   "execution_count": 25,
   "metadata": {},
   "outputs": [],
   "source": [
    "import os\n",
    "import json\n",
    "import sys\n",
    "mocks_dir = os.path.join(os.path.abspath(''), 'mocks')\n",
    "sys.path.insert(0, mocks_dir + '/../../classes/')\n",
    "#print(mocks_dir + '/../../classes/')\n",
    "from patent import Patent"
   ]
  },
  {
   "cell_type": "code",
   "execution_count": 26,
   "metadata": {},
   "outputs": [],
   "source": [
    "data_path = os.path.join(mocks_dir, 'validation_data.json')\n",
    "data_file = open(data_path)\n",
    "data = json.load(data_file)"
   ]
  },
  {
   "cell_type": "code",
   "execution_count": 27,
   "metadata": {},
   "outputs": [],
   "source": [
    "def print_result(patent_number, key, expected, extracted):\n",
    "    print(key + \" is incorrect for patent id \" + patent_number)\n",
    "    print(\"Extracted: \" + extracted)\n",
    "    print(\"Expected: \" + expected)"
   ]
  },
  {
   "cell_type": "code",
   "execution_count": 28,
   "metadata": {},
   "outputs": [],
   "source": [
    "#patent id, expected is subset of extracted, extracted is subset of expected, expected, extracted\n",
    "import pandas as pd\n",
    "\n"
   ]
  },
  {
   "cell_type": "code",
   "execution_count": 30,
   "metadata": {},
   "outputs": [],
   "source": [
    "epitope_results =  pd.DataFrame(columns=['patent_id', 'expected_is_subset', 'extracted_is_subset', 'expected_residues', 'extracted_residues'])\n",
    "\n",
    "for datum in data:\n",
    "    pat_id = datum['patentNumber']\n",
    "    patent_xml_path = os.path.join(mocks_dir, pat_id + '.xml')\n",
    "    patent = Patent(patent_xml_path, pat_id)\n",
    "    \n",
    "    for key in datum:\n",
    "        if type(datum[key]) == str:\n",
    "            if datum[key].lower() != patent.__dict__[key].lower(): \n",
    "                print_result(datum['patentNumber'], key, datum[key], patent.__dict__[key])\n",
    "        elif key == 'mentionedResidues':\n",
    "            extracted_res = set()\n",
    "            for a in patent.__dict__[key]:\n",
    "                for b in a['claimedResidues']:\n",
    "                    extracted_res.add(b)\n",
    "            #parsed_epitopes = list(res)\n",
    "            extracted_res = set(sorted(extracted_res, key=lambda e: int(e)))\n",
    "            expected_res = set(sorted(datum[key], key=lambda e: int(e)))\n",
    "            exp_sub = expected_res.issubset(extracted_res)\n",
    "            ext_sub = extracted_res.issubset(expected_res)\n",
    "            epitope_results = epitope_results.append(\n",
    "                {'patent_id': pat_id, 'expected_is_subset': exp_sub, 'extracted_is_subset': ext_sub, \n",
    "                'expected_residues': expected_res, 'extracted_residues': extracted_res}, ignore_index=True)\n",
    "            \n",
    "        else: \n",
    "            if datum[key] != patent.__dict__[key]:\n",
    "                print_result(datum['patentNumber'], key, str(datum[key]), str(patent.__dict__[key]))\n"
   ]
  },
  {
   "cell_type": "code",
   "execution_count": 31,
   "metadata": {},
   "outputs": [
    {
     "output_type": "execute_result",
     "data": {
      "text/plain": [
       "      patent_id expected_is_subset extracted_is_subset  \\\n",
       "0   US8889144B2               True                True   \n",
       "1  US10787484B2               True               False   \n",
       "\n",
       "                     expected_residues  \\\n",
       "0                                   {}   \n",
       "1  {364, 442, 241, 444, 339, 343, 443}   \n",
       "\n",
       "                                  extracted_residues  \n",
       "0                                                 {}  \n",
       "1  {342, 444, 339, 341, 240, 367, 1, 340, 1369, 2...  "
      ],
      "text/html": "<div>\n<style scoped>\n    .dataframe tbody tr th:only-of-type {\n        vertical-align: middle;\n    }\n\n    .dataframe tbody tr th {\n        vertical-align: top;\n    }\n\n    .dataframe thead th {\n        text-align: right;\n    }\n</style>\n<table border=\"1\" class=\"dataframe\">\n  <thead>\n    <tr style=\"text-align: right;\">\n      <th></th>\n      <th>patent_id</th>\n      <th>expected_is_subset</th>\n      <th>extracted_is_subset</th>\n      <th>expected_residues</th>\n      <th>extracted_residues</th>\n    </tr>\n  </thead>\n  <tbody>\n    <tr>\n      <th>0</th>\n      <td>US8889144B2</td>\n      <td>True</td>\n      <td>True</td>\n      <td>{}</td>\n      <td>{}</td>\n    </tr>\n    <tr>\n      <th>1</th>\n      <td>US10787484B2</td>\n      <td>True</td>\n      <td>False</td>\n      <td>{364, 442, 241, 444, 339, 343, 443}</td>\n      <td>{342, 444, 339, 341, 240, 367, 1, 340, 1369, 2...</td>\n    </tr>\n  </tbody>\n</table>\n</div>"
     },
     "metadata": {},
     "execution_count": 31
    }
   ],
   "source": [
    "epitope_results"
   ]
  }
 ]
}